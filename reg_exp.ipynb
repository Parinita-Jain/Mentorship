{
 "cells": [
  {
   "cell_type": "code",
   "execution_count": 1,
   "id": "454abf5f",
   "metadata": {},
   "outputs": [],
   "source": [
    "import re"
   ]
  },
  {
   "cell_type": "code",
   "execution_count": 6,
   "id": "16c952a2",
   "metadata": {},
   "outputs": [
    {
     "name": "stdout",
     "output_type": "stream",
     "text": [
      "0\n",
      "2\n"
     ]
    }
   ],
   "source": [
    "y=\"How are you? How is everything ?\"\n",
    "o=re.search(\"How\",y)\n",
    "print(o.start())\n",
    "print(o.end()-1)"
   ]
  },
  {
   "cell_type": "code",
   "execution_count": null,
   "id": "940d1caa",
   "metadata": {},
   "outputs": [],
   "source": [
    "# re.findall(x,y)--matches all the instances of an expr x in a string y and returns them in a list"
   ]
  },
  {
   "cell_type": "code",
   "execution_count": 4,
   "id": "17e61e74",
   "metadata": {},
   "outputs": [
    {
     "data": {
      "text/plain": [
       "2"
      ]
     },
     "execution_count": 4,
     "metadata": {},
     "output_type": "execute_result"
    }
   ],
   "source": [
    "y=\"How are you? How is everything ?\"\n",
    "o=re.findall(\"How\",y)\n",
    "len(o)"
   ]
  },
  {
   "cell_type": "code",
   "execution_count": 8,
   "id": "a4f650c6",
   "metadata": {},
   "outputs": [
    {
     "name": "stdout",
     "output_type": "stream",
     "text": [
      "Pattern not found\n"
     ]
    }
   ],
   "source": [
    "# starts with I ends with python\n",
    "txt=\"I am learning python\"\n",
    "pattern=\"^I.*python$\"\n",
    "X=re.search(pattern,txt)\n",
    "if X:\n",
    "    print(\"Pattern found\")\n",
    "else:\n",
    "    print(\"Pattern not found\")"
   ]
  },
  {
   "cell_type": "code",
   "execution_count": 9,
   "id": "e8d707f4",
   "metadata": {},
   "outputs": [
    {
     "data": {
      "text/plain": [
       "['c', 'b', '2', '0']"
      ]
     },
     "execution_count": 9,
     "metadata": {},
     "output_type": "execute_result"
    }
   ],
   "source": [
    "#[a-k]\n",
    "re.findall(\"[a-d0-3]\",\"cbr25980r\")"
   ]
  },
  {
   "cell_type": "code",
   "execution_count": 11,
   "id": "a4e6d0e2",
   "metadata": {},
   "outputs": [
    {
     "data": {
      "text/plain": [
       "['d', 'd', 'm', 'm', 'y', 'y', 'y']"
      ]
     },
     "execution_count": 11,
     "metadata": {},
     "output_type": "execute_result"
    }
   ],
   "source": [
    "re.findall(\"[dym]\",\"cbrdd25mm980yyyr\")"
   ]
  },
  {
   "cell_type": "code",
   "execution_count": 12,
   "id": "0a1ca1b3",
   "metadata": {},
   "outputs": [
    {
     "data": {
      "text/plain": [
       "['c', 'b', 'r', '2', '5', '9', '8', '0', 'r']"
      ]
     },
     "execution_count": 12,
     "metadata": {},
     "output_type": "execute_result"
    }
   ],
   "source": [
    "re.findall(\"[^dym]\",\"cbrdd25mm980yyyr\")"
   ]
  },
  {
   "cell_type": "code",
   "execution_count": 15,
   "id": "4115b023",
   "metadata": {},
   "outputs": [
    {
     "data": {
      "text/plain": [
       "['c', 'b', '2', '5', 'm', 'm', '_', '9', '8', '0', 'y', 'y', 'y', 'r']"
      ]
     },
     "execution_count": 15,
     "metadata": {},
     "output_type": "execute_result"
    }
   ],
   "source": [
    "#\\w-- a-zA-Z0-9_\n",
    "re.findall(\"\\w\",\"cb25 mm_980y#y$yr\")"
   ]
  },
  {
   "cell_type": "code",
   "execution_count": 16,
   "id": "8faa4050",
   "metadata": {},
   "outputs": [
    {
     "data": {
      "text/plain": [
       "['2', '5', '9', '8', '0']"
      ]
     },
     "execution_count": 16,
     "metadata": {},
     "output_type": "execute_result"
    }
   ],
   "source": [
    "#\\d\n",
    "re.findall(\"\\d\",\"cb25 mm_980y#y$yr\")"
   ]
  },
  {
   "cell_type": "code",
   "execution_count": 17,
   "id": "1e84e848",
   "metadata": {},
   "outputs": [
    {
     "data": {
      "text/plain": [
       "['c', 'b', ' ', 'm', 'm', '_', 'y', '#', 'y', '$', 'y', 'r']"
      ]
     },
     "execution_count": 17,
     "metadata": {},
     "output_type": "execute_result"
    }
   ],
   "source": [
    "re.findall(\"\\D\",\"cb25 mm_980y#y$yr\")"
   ]
  },
  {
   "cell_type": "code",
   "execution_count": 22,
   "id": "b0b544fe",
   "metadata": {},
   "outputs": [
    {
     "name": "stdout",
     "output_type": "stream",
     "text": [
      "2\n"
     ]
    },
    {
     "data": {
      "text/plain": [
       "[' ', ' ', ' ']"
      ]
     },
     "execution_count": 22,
     "metadata": {},
     "output_type": "execute_result"
    }
   ],
   "source": [
    "#\\s\n",
    "#earch for the first white space char\n",
    "txt=\"I am learning python\"\n",
    "x=re.search(\"\\s\",txt)\n",
    "print(x.start()+1)\n",
    "re.findall(\"\\s\",txt)"
   ]
  },
  {
   "cell_type": "code",
   "execution_count": 24,
   "id": "5b2ef35b",
   "metadata": {},
   "outputs": [
    {
     "data": {
      "text/plain": [
       "['H', 'i', ' ', 'g', 'u', 'y', 's', ' ', ' ', '$', ' ', '\\t']"
      ]
     },
     "execution_count": 24,
     "metadata": {},
     "output_type": "execute_result"
    }
   ],
   "source": [
    "# .\n",
    "re.findall(\".\",\"Hi guys  $ \\t\\n\")"
   ]
  },
  {
   "cell_type": "code",
   "execution_count": 25,
   "id": "0a949157",
   "metadata": {},
   "outputs": [
    {
     "data": {
      "text/plain": [
       "['Hi']"
      ]
     },
     "execution_count": 25,
     "metadata": {},
     "output_type": "execute_result"
    }
   ],
   "source": [
    "re.findall(\"^[a-zA-Z]\\w\",\"Hi guys  $ \\t\\n\")"
   ]
  },
  {
   "cell_type": "code",
   "execution_count": 28,
   "id": "db70f8bd",
   "metadata": {},
   "outputs": [
    {
     "data": {
      "text/plain": [
       "[]"
      ]
     },
     "execution_count": 28,
     "metadata": {},
     "output_type": "execute_result"
    }
   ],
   "source": [
    "re.findall(\"^[a-zA-Z]\\w\",\"5 star  $ \\t\\n\")"
   ]
  },
  {
   "cell_type": "code",
   "execution_count": 30,
   "id": "d68227c6",
   "metadata": {},
   "outputs": [
    {
     "data": {
      "text/plain": [
       "['*']"
      ]
     },
     "execution_count": 30,
     "metadata": {},
     "output_type": "execute_result"
    }
   ],
   "source": [
    "#\\--escapes special char\n",
    "re.findall(\"\\*\",\"5 star *\")"
   ]
  },
  {
   "cell_type": "code",
   "execution_count": 36,
   "id": "030907df",
   "metadata": {},
   "outputs": [
    {
     "data": {
      "text/plain": [
       "['H', '', '', '', '', '', '', '', '', '']"
      ]
     },
     "execution_count": 36,
     "metadata": {},
     "output_type": "execute_result"
    }
   ],
   "source": [
    "re.findall(\"H?\",\"Hi 5 star\")"
   ]
  },
  {
   "cell_type": "code",
   "execution_count": 38,
   "id": "83bc1ef8",
   "metadata": {},
   "outputs": [
    {
     "data": {
      "text/plain": [
       "['H', 'H']"
      ]
     },
     "execution_count": 38,
     "metadata": {},
     "output_type": "execute_result"
    }
   ],
   "source": [
    "re.findall(\"H+\",\"Hi Hi 5 star\")"
   ]
  },
  {
   "cell_type": "code",
   "execution_count": 42,
   "id": "22a77078",
   "metadata": {},
   "outputs": [
    {
     "data": {
      "text/plain": [
       "'Tiger'"
      ]
     },
     "execution_count": 42,
     "metadata": {},
     "output_type": "execute_result"
    }
   ],
   "source": [
    "txt=\"Tiger is a national animal of India.Tiger lives in forest\"\n",
    "pattern=\"Tiger\"\n",
    "re.match(pattern,txt).group()"
   ]
  },
  {
   "cell_type": "code",
   "execution_count": 46,
   "id": "2886d75f",
   "metadata": {},
   "outputs": [
    {
     "data": {
      "text/plain": [
       "['15-08-1947', '26-01-1950']"
      ]
     },
     "execution_count": 46,
     "metadata": {},
     "output_type": "execute_result"
    }
   ],
   "source": [
    "txt=\"India got freedom on 15-08-1947, and it is celebrated as Independence Day.\\\n",
    "Indian Constituion came into effect on 26-01-1950, and it is celebrated as Republic Day.\"\n",
    "\n",
    "pattern=r\"\\d{2}-\\d{2}-\\d{4}\"\n",
    "re.findall(pattern,txt)"
   ]
  },
  {
   "cell_type": "code",
   "execution_count": null,
   "id": "92f7ebd0",
   "metadata": {},
   "outputs": [],
   "source": [
    "#finditer()--this is similar to findall but returns iterator"
   ]
  },
  {
   "cell_type": "code",
   "execution_count": 49,
   "id": "77b6f537",
   "metadata": {},
   "outputs": [
    {
     "name": "stdout",
     "output_type": "stream",
     "text": [
      "<re.Match object; span=(0, 5), match='Tiger'>\n",
      "0 5 Tiger\n",
      "<re.Match object; span=(36, 41), match='Tiger'>\n",
      "36 41 Tiger\n"
     ]
    }
   ],
   "source": [
    "txt=\"Tiger is a national animal of India.Tiger lives in forest\"\n",
    "pattern=\"Tiger\"\n",
    "result=re.finditer(pattern,txt)\n",
    "\n",
    "for m in result:\n",
    "    print(m)\n",
    "    print(m.start(),m.end(),m.group())\n"
   ]
  },
  {
   "cell_type": "code",
   "execution_count": 51,
   "id": "523a3dea",
   "metadata": {},
   "outputs": [
    {
     "data": {
      "text/plain": [
       "'Python community is biggest community in the world'"
      ]
     },
     "execution_count": 51,
     "metadata": {},
     "output_type": "execute_result"
    }
   ],
   "source": [
    "#sub()--\n",
    "txt=\"Python community is biggest community in India\"\n",
    "re.sub(\"India\",\"the world\",txt)\n"
   ]
  },
  {
   "cell_type": "code",
   "execution_count": 58,
   "id": "da3a8d5f",
   "metadata": {},
   "outputs": [
    {
     "data": {
      "text/plain": [
       "['I have a big test tomorrow', \" I can't go out tonight\"]"
      ]
     },
     "execution_count": 58,
     "metadata": {},
     "output_type": "execute_result"
    }
   ],
   "source": [
    "txt=\"I have a big test tomorrow; I can't go out tonight\"\n",
    "re.split(r\"[;]\",txt)"
   ]
  },
  {
   "cell_type": "code",
   "execution_count": null,
   "id": "b3cd809f",
   "metadata": {},
   "outputs": [],
   "source": [
    "# groups--"
   ]
  },
  {
   "cell_type": "code",
   "execution_count": 90,
   "id": "4ba3d431",
   "metadata": {},
   "outputs": [
    {
     "name": "stdout",
     "output_type": "stream",
     "text": [
      "[('Alex', 'debited', '$100', '14-02-2023')]\n"
     ]
    }
   ],
   "source": [
    "txt=\"Ajay credited $500 to your account on 12-02-2023.\\\n",
    "Anmol debited $1700 from your account on 13-02-2023.\\\n",
    "Alex debited $100 on 14-02-2023 from your account.\" \n",
    "\n",
    "pattern=\"([\\w]+) ([\\w]+) (\\$[\\d]+) [a-zA-Z]+ (\\d{2}-\\d{2}-\\d{4}).\"\n",
    "\n",
    "result=re.findall(pattern,txt)\n",
    "print(result)"
   ]
  },
  {
   "cell_type": "code",
   "execution_count": 85,
   "id": "61b6f8dc",
   "metadata": {},
   "outputs": [
    {
     "data": {
      "text/html": [
       "<div>\n",
       "<style scoped>\n",
       "    .dataframe tbody tr th:only-of-type {\n",
       "        vertical-align: middle;\n",
       "    }\n",
       "\n",
       "    .dataframe tbody tr th {\n",
       "        vertical-align: top;\n",
       "    }\n",
       "\n",
       "    .dataframe thead th {\n",
       "        text-align: right;\n",
       "    }\n",
       "</style>\n",
       "<table border=\"1\" class=\"dataframe\">\n",
       "  <thead>\n",
       "    <tr style=\"text-align: right;\">\n",
       "      <th></th>\n",
       "      <th>Name</th>\n",
       "      <th>Action_Type</th>\n",
       "      <th>Amount</th>\n",
       "      <th>Date</th>\n",
       "    </tr>\n",
       "  </thead>\n",
       "  <tbody>\n",
       "    <tr>\n",
       "      <th>0</th>\n",
       "      <td>Alex</td>\n",
       "      <td>debited</td>\n",
       "      <td>$100</td>\n",
       "      <td>14-02-2023</td>\n",
       "    </tr>\n",
       "  </tbody>\n",
       "</table>\n",
       "</div>"
      ],
      "text/plain": [
       "   Name Action_Type Amount        Date\n",
       "0  Alex     debited   $100  14-02-2023"
      ]
     },
     "execution_count": 85,
     "metadata": {},
     "output_type": "execute_result"
    }
   ],
   "source": [
    "import pandas as pd\n",
    "df=pd.DataFrame(result,columns=[\"Name\",\"Action_Type\",\"Amount\",\"Date\"])\n",
    "df"
   ]
  },
  {
   "cell_type": "code",
   "execution_count": 101,
   "id": "7924e1b6",
   "metadata": {},
   "outputs": [],
   "source": [
    "txt=\"Ajay credited $500 to your account on 12-02-2023.\\\n",
    "Anmol debited $1700 from your account on 13-02-2023.\\\n",
    "Alex debited $100 on 14-02-2023 from your account.\"\n",
    "\n",
    "pattern=\"([\\w]+) ([\\w]+) (\\$[\\d]+) [a-zA-Z ]+ (\\d{2}-\\d{2}-\\d{4}).\"\n",
    "result=re.findall(pattern,txt)"
   ]
  },
  {
   "cell_type": "code",
   "execution_count": 102,
   "id": "41e693c0",
   "metadata": {},
   "outputs": [
    {
     "data": {
      "text/html": [
       "<div>\n",
       "<style scoped>\n",
       "    .dataframe tbody tr th:only-of-type {\n",
       "        vertical-align: middle;\n",
       "    }\n",
       "\n",
       "    .dataframe tbody tr th {\n",
       "        vertical-align: top;\n",
       "    }\n",
       "\n",
       "    .dataframe thead th {\n",
       "        text-align: right;\n",
       "    }\n",
       "</style>\n",
       "<table border=\"1\" class=\"dataframe\">\n",
       "  <thead>\n",
       "    <tr style=\"text-align: right;\">\n",
       "      <th></th>\n",
       "      <th>Name</th>\n",
       "      <th>Action_Type</th>\n",
       "      <th>Amount</th>\n",
       "      <th>Date</th>\n",
       "    </tr>\n",
       "  </thead>\n",
       "  <tbody>\n",
       "    <tr>\n",
       "      <th>0</th>\n",
       "      <td>Ajay</td>\n",
       "      <td>credited</td>\n",
       "      <td>$500</td>\n",
       "      <td>12-02-2023</td>\n",
       "    </tr>\n",
       "    <tr>\n",
       "      <th>1</th>\n",
       "      <td>Anmol</td>\n",
       "      <td>debited</td>\n",
       "      <td>$1700</td>\n",
       "      <td>13-02-2023</td>\n",
       "    </tr>\n",
       "    <tr>\n",
       "      <th>2</th>\n",
       "      <td>Alex</td>\n",
       "      <td>debited</td>\n",
       "      <td>$100</td>\n",
       "      <td>14-02-2023</td>\n",
       "    </tr>\n",
       "  </tbody>\n",
       "</table>\n",
       "</div>"
      ],
      "text/plain": [
       "    Name Action_Type Amount        Date\n",
       "0   Ajay    credited   $500  12-02-2023\n",
       "1  Anmol     debited  $1700  13-02-2023\n",
       "2   Alex     debited   $100  14-02-2023"
      ]
     },
     "execution_count": 102,
     "metadata": {},
     "output_type": "execute_result"
    }
   ],
   "source": [
    "import pandas as pd\n",
    "df=pd.DataFrame(result,columns=[\"Name\",\"Action_Type\",\"Amount\",\"Date\"])\n",
    "df"
   ]
  },
  {
   "cell_type": "code",
   "execution_count": null,
   "id": "a7925960",
   "metadata": {},
   "outputs": [],
   "source": []
  },
  {
   "cell_type": "code",
   "execution_count": null,
   "id": "61d20524",
   "metadata": {},
   "outputs": [],
   "source": []
  }
 ],
 "metadata": {
  "kernelspec": {
   "display_name": "Python 3 (ipykernel)",
   "language": "python",
   "name": "python3"
  },
  "language_info": {
   "codemirror_mode": {
    "name": "ipython",
    "version": 3
   },
   "file_extension": ".py",
   "mimetype": "text/x-python",
   "name": "python",
   "nbconvert_exporter": "python",
   "pygments_lexer": "ipython3",
   "version": "3.9.7"
  }
 },
 "nbformat": 4,
 "nbformat_minor": 5
}
