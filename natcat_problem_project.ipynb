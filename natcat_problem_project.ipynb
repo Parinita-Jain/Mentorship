{
 "cells": [
  {
   "cell_type": "markdown",
   "id": "a08fb531",
   "metadata": {},
   "source": [
    "# About Data :\n",
    "Within the excel file ‘Losses’ are daily claims (values, as at the time of the loss), by loss cause, between 1st January 1999 to 29 December 2007 for one portfolio of a UK insurance company. "
   ]
  },
  {
   "cell_type": "markdown",
   "id": "c4d10f00",
   "metadata": {},
   "source": [
    "### Importing the libraries"
   ]
  },
  {
   "cell_type": "code",
   "execution_count": 1,
   "id": "86b250a3",
   "metadata": {
    "scrolled": false
   },
   "outputs": [],
   "source": [
    "import numpy as np\n",
    "import pandas as pd\n",
    "import seaborn as sb\n",
    "import matplotlib.pyplot as plt\n",
    "\n",
    "import warnings\n",
    "warnings.filterwarnings('ignore')"
   ]
  },
  {
   "cell_type": "markdown",
   "id": "bfa18ca4",
   "metadata": {},
   "source": [
    "**The first step to any kind of exploration and modelling requires us to load the data file into the environment.**"
   ]
  },
  {
   "cell_type": "code",
   "execution_count": 2,
   "id": "318395ca",
   "metadata": {
    "scrolled": false
   },
   "outputs": [],
   "source": [
    "# Reading dataset using read_excel method\n",
    "data_df = pd.read_excel('Losses.xlsx')"
   ]
  },
  {
   "cell_type": "markdown",
   "id": "9f03b3ae",
   "metadata": {},
   "source": [
    "**Let's Check the dimensions of this data**"
   ]
  },
  {
   "cell_type": "code",
   "execution_count": 3,
   "id": "4e6da913",
   "metadata": {
    "scrolled": false
   },
   "outputs": [
    {
     "name": "stdout",
     "output_type": "stream",
     "text": [
      "Number of rows: 47565\n",
      "Number of columns: 6\n"
     ]
    }
   ],
   "source": [
    "# Checking \n",
    "data_df.shape\n",
    "print(\"Number of rows: \"+str(data_df.shape[0]))\n",
    "print(\"Number of columns: \"+str(data_df.shape[1]))"
   ]
  },
  {
   "cell_type": "markdown",
   "id": "596100d4",
   "metadata": {},
   "source": [
    "**Let's take a look at the top 5 rows of the data to understand what this file contains.**"
   ]
  },
  {
   "cell_type": "code",
   "execution_count": 4,
   "id": "f5645d1d",
   "metadata": {
    "scrolled": false
   },
   "outputs": [
    {
     "data": {
      "text/html": [
       "<div>\n",
       "<style scoped>\n",
       "    .dataframe tbody tr th:only-of-type {\n",
       "        vertical-align: middle;\n",
       "    }\n",
       "\n",
       "    .dataframe tbody tr th {\n",
       "        vertical-align: top;\n",
       "    }\n",
       "\n",
       "    .dataframe thead th {\n",
       "        text-align: right;\n",
       "    }\n",
       "</style>\n",
       "<table border=\"1\" class=\"dataframe\">\n",
       "  <thead>\n",
       "    <tr style=\"text-align: right;\">\n",
       "      <th></th>\n",
       "      <th>DAY</th>\n",
       "      <th>MONTH</th>\n",
       "      <th>MONTH_ID</th>\n",
       "      <th>YEAR</th>\n",
       "      <th>CAUSE</th>\n",
       "      <th>GROSS INCURRED AMOUNT</th>\n",
       "    </tr>\n",
       "  </thead>\n",
       "  <tbody>\n",
       "    <tr>\n",
       "      <th>0</th>\n",
       "      <td>1</td>\n",
       "      <td>January</td>\n",
       "      <td>1</td>\n",
       "      <td>1999</td>\n",
       "      <td>WINDSTORM</td>\n",
       "      <td>477.88</td>\n",
       "    </tr>\n",
       "    <tr>\n",
       "      <th>1</th>\n",
       "      <td>1</td>\n",
       "      <td>January</td>\n",
       "      <td>1</td>\n",
       "      <td>1999</td>\n",
       "      <td>FIRE</td>\n",
       "      <td>700.00</td>\n",
       "    </tr>\n",
       "    <tr>\n",
       "      <th>2</th>\n",
       "      <td>1</td>\n",
       "      <td>January</td>\n",
       "      <td>1</td>\n",
       "      <td>1999</td>\n",
       "      <td>WINDSTORM</td>\n",
       "      <td>99.87</td>\n",
       "    </tr>\n",
       "    <tr>\n",
       "      <th>3</th>\n",
       "      <td>1</td>\n",
       "      <td>January</td>\n",
       "      <td>1</td>\n",
       "      <td>1999</td>\n",
       "      <td>WINDSTORM</td>\n",
       "      <td>139.80</td>\n",
       "    </tr>\n",
       "    <tr>\n",
       "      <th>4</th>\n",
       "      <td>1</td>\n",
       "      <td>January</td>\n",
       "      <td>1</td>\n",
       "      <td>1999</td>\n",
       "      <td>WINDSTORM</td>\n",
       "      <td>548.66</td>\n",
       "    </tr>\n",
       "  </tbody>\n",
       "</table>\n",
       "</div>"
      ],
      "text/plain": [
       "   DAY    MONTH  MONTH_ID  YEAR      CAUSE  GROSS INCURRED AMOUNT\n",
       "0    1  January         1  1999  WINDSTORM                 477.88\n",
       "1    1  January         1  1999       FIRE                 700.00\n",
       "2    1  January         1  1999  WINDSTORM                  99.87\n",
       "3    1  January         1  1999  WINDSTORM                 139.80\n",
       "4    1  January         1  1999  WINDSTORM                 548.66"
      ]
     },
     "execution_count": 4,
     "metadata": {},
     "output_type": "execute_result"
    }
   ],
   "source": [
    "# The .head() function helps us to show top 5 records\n",
    "data_df.head()"
   ]
  },
  {
   "cell_type": "markdown",
   "id": "d6277d4e",
   "metadata": {},
   "source": [
    "**To understand the data better that we are going to deal with we would like to have a look at the basic numerical stats of the data like the mean, maximum etc. columnwise.**"
   ]
  },
  {
   "cell_type": "code",
   "execution_count": 5,
   "id": "e2f6ce30",
   "metadata": {
    "scrolled": false
   },
   "outputs": [
    {
     "data": {
      "text/html": [
       "<div>\n",
       "<style scoped>\n",
       "    .dataframe tbody tr th:only-of-type {\n",
       "        vertical-align: middle;\n",
       "    }\n",
       "\n",
       "    .dataframe tbody tr th {\n",
       "        vertical-align: top;\n",
       "    }\n",
       "\n",
       "    .dataframe thead th {\n",
       "        text-align: right;\n",
       "    }\n",
       "</style>\n",
       "<table border=\"1\" class=\"dataframe\">\n",
       "  <thead>\n",
       "    <tr style=\"text-align: right;\">\n",
       "      <th></th>\n",
       "      <th>DAY</th>\n",
       "      <th>MONTH_ID</th>\n",
       "      <th>YEAR</th>\n",
       "      <th>GROSS INCURRED AMOUNT</th>\n",
       "    </tr>\n",
       "  </thead>\n",
       "  <tbody>\n",
       "    <tr>\n",
       "      <th>count</th>\n",
       "      <td>47565.000000</td>\n",
       "      <td>47565.000000</td>\n",
       "      <td>47565.000000</td>\n",
       "      <td>47565.000000</td>\n",
       "    </tr>\n",
       "    <tr>\n",
       "      <th>mean</th>\n",
       "      <td>15.182802</td>\n",
       "      <td>6.379270</td>\n",
       "      <td>2004.335583</td>\n",
       "      <td>1072.416586</td>\n",
       "    </tr>\n",
       "    <tr>\n",
       "      <th>std</th>\n",
       "      <td>9.224491</td>\n",
       "      <td>3.579773</td>\n",
       "      <td>2.463259</td>\n",
       "      <td>3997.920914</td>\n",
       "    </tr>\n",
       "    <tr>\n",
       "      <th>min</th>\n",
       "      <td>1.000000</td>\n",
       "      <td>1.000000</td>\n",
       "      <td>1999.000000</td>\n",
       "      <td>-31989.780000</td>\n",
       "    </tr>\n",
       "    <tr>\n",
       "      <th>25%</th>\n",
       "      <td>7.000000</td>\n",
       "      <td>3.000000</td>\n",
       "      <td>2002.000000</td>\n",
       "      <td>158.630000</td>\n",
       "    </tr>\n",
       "    <tr>\n",
       "      <th>50%</th>\n",
       "      <td>15.000000</td>\n",
       "      <td>7.000000</td>\n",
       "      <td>2005.000000</td>\n",
       "      <td>400.000000</td>\n",
       "    </tr>\n",
       "    <tr>\n",
       "      <th>75%</th>\n",
       "      <td>23.000000</td>\n",
       "      <td>10.000000</td>\n",
       "      <td>2006.000000</td>\n",
       "      <td>888.610000</td>\n",
       "    </tr>\n",
       "    <tr>\n",
       "      <th>max</th>\n",
       "      <td>31.000000</td>\n",
       "      <td>12.000000</td>\n",
       "      <td>2007.000000</td>\n",
       "      <td>249499.510000</td>\n",
       "    </tr>\n",
       "  </tbody>\n",
       "</table>\n",
       "</div>"
      ],
      "text/plain": [
       "                DAY      MONTH_ID          YEAR  GROSS INCURRED AMOUNT\n",
       "count  47565.000000  47565.000000  47565.000000           47565.000000\n",
       "mean      15.182802      6.379270   2004.335583            1072.416586\n",
       "std        9.224491      3.579773      2.463259            3997.920914\n",
       "min        1.000000      1.000000   1999.000000          -31989.780000\n",
       "25%        7.000000      3.000000   2002.000000             158.630000\n",
       "50%       15.000000      7.000000   2005.000000             400.000000\n",
       "75%       23.000000     10.000000   2006.000000             888.610000\n",
       "max       31.000000     12.000000   2007.000000          249499.510000"
      ]
     },
     "execution_count": 5,
     "metadata": {},
     "output_type": "execute_result"
    }
   ],
   "source": [
    "# The .describe() function helps us.\n",
    "data_df.describe()"
   ]
  },
  {
   "cell_type": "markdown",
   "id": "cd55407c",
   "metadata": {},
   "source": [
    "**describe() method** deals only with numeric values. It doesn't work with any categorical values. So if there are any categorical values in a column the describe() method will ignore it and display summary for the other columns unless parameter include=\"all\" is passed.\n",
    "\n",
    "- count tells us the number of NoN-empty rows in a feature.\n",
    "- mean tells us the mean value of that feature.\n",
    "- std tells us the Standard Deviation Value of that feature.\n",
    "- min tells us the minimum value of that feature.\n",
    "- 25%, 50%, and 75% are the percentile/quartile of each features. This quartile information helps us to detect Outliers.\n",
    "- max tells us the maximum value of that feature.\n"
   ]
  },
  {
   "cell_type": "code",
   "execution_count": 6,
   "id": "2204a57b",
   "metadata": {
    "scrolled": false
   },
   "outputs": [
    {
     "name": "stdout",
     "output_type": "stream",
     "text": [
      "<class 'pandas.core.frame.DataFrame'>\n",
      "RangeIndex: 47565 entries, 0 to 47564\n",
      "Data columns (total 6 columns):\n",
      " #   Column                 Non-Null Count  Dtype  \n",
      "---  ------                 --------------  -----  \n",
      " 0   DAY                    47565 non-null  int64  \n",
      " 1   MONTH                  47565 non-null  object \n",
      " 2   MONTH_ID               47565 non-null  int64  \n",
      " 3   YEAR                   47565 non-null  int64  \n",
      " 4   CAUSE                  47565 non-null  object \n",
      " 5   GROSS INCURRED AMOUNT  47565 non-null  float64\n",
      "dtypes: float64(1), int64(3), object(2)\n",
      "memory usage: 2.2+ MB\n"
     ]
    }
   ],
   "source": [
    "#datatypes of all present attributes in the dataset\n",
    "data_df.info()"
   ]
  },
  {
   "cell_type": "code",
   "execution_count": 7,
   "id": "92bb62ed",
   "metadata": {
    "scrolled": false
   },
   "outputs": [
    {
     "data": {
      "text/plain": [
       "DAY                         31\n",
       "MONTH                       12\n",
       "MONTH_ID                    12\n",
       "YEAR                         9\n",
       "CAUSE                        8\n",
       "GROSS INCURRED AMOUNT    19865\n",
       "dtype: int64"
      ]
     },
     "execution_count": 7,
     "metadata": {},
     "output_type": "execute_result"
    }
   ],
   "source": [
    "#number of distinct elements in each attribute\n",
    "data_df.nunique(axis=0)"
   ]
  },
  {
   "cell_type": "markdown",
   "id": "3c998466",
   "metadata": {},
   "source": [
    "**Checking the Null Values in the data set**"
   ]
  },
  {
   "cell_type": "code",
   "execution_count": 8,
   "id": "c97e23be",
   "metadata": {
    "scrolled": true
   },
   "outputs": [
    {
     "data": {
      "text/plain": [
       "DAY                      0\n",
       "MONTH                    0\n",
       "MONTH_ID                 0\n",
       "YEAR                     0\n",
       "CAUSE                    0\n",
       "GROSS INCURRED AMOUNT    0\n",
       "dtype: int64"
      ]
     },
     "execution_count": 8,
     "metadata": {},
     "output_type": "execute_result"
    }
   ],
   "source": [
    "# using .isnull().sum()\n",
    "\n",
    "data_df.isnull().sum()"
   ]
  },
  {
   "cell_type": "markdown",
   "id": "34bacb72",
   "metadata": {},
   "source": [
    "**Checking duplicate entry in the data set**"
   ]
  },
  {
   "cell_type": "code",
   "execution_count": 9,
   "id": "e91a5298",
   "metadata": {
    "scrolled": true
   },
   "outputs": [
    {
     "data": {
      "text/plain": [
       "3264"
      ]
     },
     "execution_count": 9,
     "metadata": {},
     "output_type": "execute_result"
    }
   ],
   "source": [
    "# using .duplicated().sum()\n",
    "\n",
    "data_df.duplicated().sum()"
   ]
  },
  {
   "cell_type": "markdown",
   "id": "fbca52aa",
   "metadata": {},
   "source": [
    "**In our dataset 3264 duplicate entry is present. So first we remove it.**"
   ]
  },
  {
   "cell_type": "code",
   "execution_count": 10,
   "id": "c09262ec",
   "metadata": {
    "scrolled": true
   },
   "outputs": [],
   "source": [
    "data_df.drop_duplicates(inplace = True)"
   ]
  },
  {
   "cell_type": "markdown",
   "id": "5119be11",
   "metadata": {},
   "source": [
    "## Now we will first solve the given three problems and then make our model. "
   ]
  },
  {
   "cell_type": "markdown",
   "id": "75a9d436",
   "metadata": {},
   "source": [
    "#### Q1. What are the total claims by year and what trends are there? What could be driving these trends?"
   ]
  },
  {
   "cell_type": "markdown",
   "id": "42ae969d",
   "metadata": {},
   "source": [
    "**a -What are the total value of claims by year?**"
   ]
  },
  {
   "cell_type": "code",
   "execution_count": 11,
   "id": "0a79b50a",
   "metadata": {
    "scrolled": false
   },
   "outputs": [
    {
     "data": {
      "text/html": [
       "<div>\n",
       "<style scoped>\n",
       "    .dataframe tbody tr th:only-of-type {\n",
       "        vertical-align: middle;\n",
       "    }\n",
       "\n",
       "    .dataframe tbody tr th {\n",
       "        vertical-align: top;\n",
       "    }\n",
       "\n",
       "    .dataframe thead th {\n",
       "        text-align: right;\n",
       "    }\n",
       "</style>\n",
       "<table border=\"1\" class=\"dataframe\">\n",
       "  <thead>\n",
       "    <tr style=\"text-align: right;\">\n",
       "      <th></th>\n",
       "      <th>YEAR</th>\n",
       "      <th>GROSS INCURRED AMOUNT</th>\n",
       "    </tr>\n",
       "  </thead>\n",
       "  <tbody>\n",
       "    <tr>\n",
       "      <th>0</th>\n",
       "      <td>1999</td>\n",
       "      <td>1504421.74</td>\n",
       "    </tr>\n",
       "    <tr>\n",
       "      <th>1</th>\n",
       "      <td>2000</td>\n",
       "      <td>3326081.57</td>\n",
       "    </tr>\n",
       "    <tr>\n",
       "      <th>2</th>\n",
       "      <td>2001</td>\n",
       "      <td>3535301.70</td>\n",
       "    </tr>\n",
       "    <tr>\n",
       "      <th>3</th>\n",
       "      <td>2002</td>\n",
       "      <td>3262541.63</td>\n",
       "    </tr>\n",
       "    <tr>\n",
       "      <th>4</th>\n",
       "      <td>2003</td>\n",
       "      <td>3135699.13</td>\n",
       "    </tr>\n",
       "    <tr>\n",
       "      <th>5</th>\n",
       "      <td>2004</td>\n",
       "      <td>4022203.93</td>\n",
       "    </tr>\n",
       "    <tr>\n",
       "      <th>6</th>\n",
       "      <td>2005</td>\n",
       "      <td>6230756.87</td>\n",
       "    </tr>\n",
       "    <tr>\n",
       "      <th>7</th>\n",
       "      <td>2006</td>\n",
       "      <td>9818361.64</td>\n",
       "    </tr>\n",
       "    <tr>\n",
       "      <th>8</th>\n",
       "      <td>2007</td>\n",
       "      <td>15181791.84</td>\n",
       "    </tr>\n",
       "  </tbody>\n",
       "</table>\n",
       "</div>"
      ],
      "text/plain": [
       "   YEAR  GROSS INCURRED AMOUNT\n",
       "0  1999             1504421.74\n",
       "1  2000             3326081.57\n",
       "2  2001             3535301.70\n",
       "3  2002             3262541.63\n",
       "4  2003             3135699.13\n",
       "5  2004             4022203.93\n",
       "6  2005             6230756.87\n",
       "7  2006             9818361.64\n",
       "8  2007            15181791.84"
      ]
     },
     "execution_count": 11,
     "metadata": {},
     "output_type": "execute_result"
    }
   ],
   "source": [
    "year = []\n",
    "total_values=[]\n",
    "for i in data_df['YEAR'].unique():\n",
    "    total_value =data_df.loc[data_df['YEAR'] == i, 'GROSS INCURRED AMOUNT'].sum()\n",
    "    year.append(i)\n",
    "    total_values.append(total_value.round(2))\n",
    "'''    print(\"--------------------------------------------\")\n",
    "    print(\"Year\", i)\n",
    "    print(\"Total claims in this year\", total_value)'''\n",
    "dict = {'YEAR': year, 'GROSS INCURRED AMOUNT': total_values}\n",
    "df = pd.DataFrame(dict)\n",
    "df"
   ]
  },
  {
   "cell_type": "code",
   "execution_count": 12,
   "id": "c9bf7930",
   "metadata": {
    "scrolled": true
   },
   "outputs": [
    {
     "data": {
      "image/png": "[encoded data removed]",
      "text/plain": [
       "<Figure size 720x360 with 1 Axes>"
      ]
     },
     "metadata": {
      "needs_background": "light"
     },
     "output_type": "display_data"
    }
   ],
   "source": [
    "fig = plt.figure(figsize = (10, 5))\n",
    " \n",
    "# creating the bar plot\n",
    "plt.bar(df['YEAR'], df['GROSS INCURRED AMOUNT'], color=['orange', 'red', 'green', 'blue', 'cyan','yellow'])\n",
    " \n",
    "plt.xlabel(\"Years\")\n",
    "plt.ylabel(\"Gross Amount\")\n",
    "plt.title(\"Total Value Claim by the year\")\n",
    "plt.show()"
   ]
  },
  {
   "cell_type": "markdown",
   "id": "f389d7d5",
   "metadata": {},
   "source": [
    "**What factors, internal and external to the insurer, could be driving any trends that you have identified?**"
   ]
  },
  {
   "cell_type": "code",
   "execution_count": 13,
   "id": "bd2bfd29",
   "metadata": {
    "scrolled": false
   },
   "outputs": [
    {
     "data": {
      "text/html": [
       "<div>\n",
       "<style scoped>\n",
       "    .dataframe tbody tr th:only-of-type {\n",
       "        vertical-align: middle;\n",
       "    }\n",
       "\n",
       "    .dataframe tbody tr th {\n",
       "        vertical-align: top;\n",
       "    }\n",
       "\n",
       "    .dataframe thead th {\n",
       "        text-align: right;\n",
       "    }\n",
       "</style>\n",
       "<table border=\"1\" class=\"dataframe\">\n",
       "  <thead>\n",
       "    <tr style=\"text-align: right;\">\n",
       "      <th></th>\n",
       "      <th>CAUSE</th>\n",
       "      <th>GROSS INCURRED AMOUNT</th>\n",
       "    </tr>\n",
       "  </thead>\n",
       "  <tbody>\n",
       "    <tr>\n",
       "      <th>0</th>\n",
       "      <td>WINDSTORM</td>\n",
       "      <td>8751596.65</td>\n",
       "    </tr>\n",
       "    <tr>\n",
       "      <th>1</th>\n",
       "      <td>FIRE</td>\n",
       "      <td>7050611.03</td>\n",
       "    </tr>\n",
       "    <tr>\n",
       "      <th>2</th>\n",
       "      <td>ESCAPE OF WATER</td>\n",
       "      <td>3405456.11</td>\n",
       "    </tr>\n",
       "    <tr>\n",
       "      <th>3</th>\n",
       "      <td>SUBSIDENCE</td>\n",
       "      <td>4773181.49</td>\n",
       "    </tr>\n",
       "    <tr>\n",
       "      <th>4</th>\n",
       "      <td>FLOOD</td>\n",
       "      <td>9449495.10</td>\n",
       "    </tr>\n",
       "    <tr>\n",
       "      <th>5</th>\n",
       "      <td>ACCIDENTAL DAMAGE</td>\n",
       "      <td>8681913.23</td>\n",
       "    </tr>\n",
       "    <tr>\n",
       "      <th>6</th>\n",
       "      <td>THEFT</td>\n",
       "      <td>7156159.83</td>\n",
       "    </tr>\n",
       "    <tr>\n",
       "      <th>7</th>\n",
       "      <td>EARTHQUAKE</td>\n",
       "      <td>748746.61</td>\n",
       "    </tr>\n",
       "  </tbody>\n",
       "</table>\n",
       "</div>"
      ],
      "text/plain": [
       "               CAUSE  GROSS INCURRED AMOUNT\n",
       "0          WINDSTORM             8751596.65\n",
       "1               FIRE             7050611.03\n",
       "2    ESCAPE OF WATER             3405456.11\n",
       "3    SUBSIDENCE                  4773181.49\n",
       "4    FLOOD                       9449495.10\n",
       "5  ACCIDENTAL DAMAGE             8681913.23\n",
       "6              THEFT             7156159.83\n",
       "7    EARTHQUAKE                   748746.61"
      ]
     },
     "execution_count": 13,
     "metadata": {},
     "output_type": "execute_result"
    }
   ],
   "source": [
    "total_values = []\n",
    "cause=[]\n",
    "for i in data_df['CAUSE'].unique():\n",
    "    total_value =data_df.loc[data_df['CAUSE'] == i, 'GROSS INCURRED AMOUNT'].sum()\n",
    "    #print(\"--------------------------------------------\")\n",
    "    #print(\"CAUSE:\", i)\n",
    "    cause.append(i)\n",
    "    total_values.append(total_value.round(2))\n",
    "    #print(\"Total claims with this cause:\", total_value.round(2))\n",
    "dict = {'CAUSE': cause, 'GROSS INCURRED AMOUNT': total_values}\n",
    "df1 = pd.DataFrame(dict)\n",
    "df1"
   ]
  },
  {
   "cell_type": "code",
   "execution_count": 14,
   "id": "cd93256f",
   "metadata": {
    "scrolled": true
   },
   "outputs": [
    {
     "data": {
      "image/png": "[encoded data removed]",
      "text/plain": [
       "<Figure size 1080x504 with 1 Axes>"
      ]
     },
     "metadata": {
      "needs_background": "light"
     },
     "output_type": "display_data"
    }
   ],
   "source": [
    "fig = plt.figure(figsize = (15, 7))\n",
    " \n",
    "# creating the bar plot\n",
    "plt.bar(df1['CAUSE'], df1['GROSS INCURRED AMOUNT'],color=['orange', 'red', 'green', 'blue', 'cyan','yellow'])\n",
    " \n",
    "plt.xlabel(\"CAUSE\")\n",
    "plt.ylabel(\"Gross Amount\")\n",
    "plt.show()"
   ]
  },
  {
   "cell_type": "markdown",
   "id": "90845603",
   "metadata": {},
   "source": [
    "## Q2. Which perils should the company worry about most and why?"
   ]
  },
  {
   "cell_type": "markdown",
   "id": "21074ab8",
   "metadata": {},
   "source": [
    "**Which claim types (perils) have the greatest average annual frequency and severity?**"
   ]
  },
  {
   "cell_type": "code",
   "execution_count": 15,
   "id": "5a0ed5b8",
   "metadata": {
    "scrolled": true
   },
   "outputs": [
    {
     "data": {
      "text/html": [
       "<div>\n",
       "<style scoped>\n",
       "    .dataframe tbody tr th:only-of-type {\n",
       "        vertical-align: middle;\n",
       "    }\n",
       "\n",
       "    .dataframe tbody tr th {\n",
       "        vertical-align: top;\n",
       "    }\n",
       "\n",
       "    .dataframe thead th {\n",
       "        text-align: right;\n",
       "    }\n",
       "</style>\n",
       "<table border=\"1\" class=\"dataframe\">\n",
       "  <thead>\n",
       "    <tr style=\"text-align: right;\">\n",
       "      <th></th>\n",
       "      <th>YEAR</th>\n",
       "      <th>CAUSE</th>\n",
       "      <th>CLAIM</th>\n",
       "    </tr>\n",
       "  </thead>\n",
       "  <tbody>\n",
       "    <tr>\n",
       "      <th>0</th>\n",
       "      <td>1999</td>\n",
       "      <td>WINDSTORM</td>\n",
       "      <td>246231.81</td>\n",
       "    </tr>\n",
       "    <tr>\n",
       "      <th>1</th>\n",
       "      <td>2000</td>\n",
       "      <td>WINDSTORM</td>\n",
       "      <td>835995.03</td>\n",
       "    </tr>\n",
       "    <tr>\n",
       "      <th>2</th>\n",
       "      <td>2001</td>\n",
       "      <td>WINDSTORM</td>\n",
       "      <td>267578.93</td>\n",
       "    </tr>\n",
       "    <tr>\n",
       "      <th>3</th>\n",
       "      <td>2002</td>\n",
       "      <td>WINDSTORM</td>\n",
       "      <td>607295.50</td>\n",
       "    </tr>\n",
       "    <tr>\n",
       "      <th>4</th>\n",
       "      <td>2003</td>\n",
       "      <td>WINDSTORM</td>\n",
       "      <td>147543.13</td>\n",
       "    </tr>\n",
       "    <tr>\n",
       "      <th>...</th>\n",
       "      <td>...</td>\n",
       "      <td>...</td>\n",
       "      <td>...</td>\n",
       "    </tr>\n",
       "    <tr>\n",
       "      <th>67</th>\n",
       "      <td>2003</td>\n",
       "      <td>EARTHQUAKE</td>\n",
       "      <td>0.00</td>\n",
       "    </tr>\n",
       "    <tr>\n",
       "      <th>68</th>\n",
       "      <td>2004</td>\n",
       "      <td>EARTHQUAKE</td>\n",
       "      <td>0.00</td>\n",
       "    </tr>\n",
       "    <tr>\n",
       "      <th>69</th>\n",
       "      <td>2005</td>\n",
       "      <td>EARTHQUAKE</td>\n",
       "      <td>0.00</td>\n",
       "    </tr>\n",
       "    <tr>\n",
       "      <th>70</th>\n",
       "      <td>2006</td>\n",
       "      <td>EARTHQUAKE</td>\n",
       "      <td>0.00</td>\n",
       "    </tr>\n",
       "    <tr>\n",
       "      <th>71</th>\n",
       "      <td>2007</td>\n",
       "      <td>EARTHQUAKE</td>\n",
       "      <td>739320.83</td>\n",
       "    </tr>\n",
       "  </tbody>\n",
       "</table>\n",
       "<p>72 rows × 3 columns</p>\n",
       "</div>"
      ],
      "text/plain": [
       "    YEAR            CAUSE      CLAIM\n",
       "0   1999        WINDSTORM  246231.81\n",
       "1   2000        WINDSTORM  835995.03\n",
       "2   2001        WINDSTORM  267578.93\n",
       "3   2002        WINDSTORM  607295.50\n",
       "4   2003        WINDSTORM  147543.13\n",
       "..   ...              ...        ...\n",
       "67  2003  EARTHQUAKE            0.00\n",
       "68  2004  EARTHQUAKE            0.00\n",
       "69  2005  EARTHQUAKE            0.00\n",
       "70  2006  EARTHQUAKE            0.00\n",
       "71  2007  EARTHQUAKE       739320.83\n",
       "\n",
       "[72 rows x 3 columns]"
      ]
     },
     "execution_count": 15,
     "metadata": {},
     "output_type": "execute_result"
    }
   ],
   "source": [
    "values = []\n",
    "causes = []\n",
    "years = []\n",
    "for c in cause:\n",
    "    for i in year:\n",
    "        total_value =data_df.loc[(data_df['YEAR'] == i) & (data_df['CAUSE']==c), 'GROSS INCURRED AMOUNT'].sum()\n",
    "        values.append(total_value.round(2))\n",
    "        causes.append(c)\n",
    "        years.append(i)\n",
    "\n",
    "dict = {'YEAR': years, 'CAUSE': causes, 'CLAIM': values} \n",
    "    \n",
    "df2 = pd.DataFrame(dict)\n",
    "    \n",
    "df2"
   ]
  },
  {
   "cell_type": "code",
   "execution_count": 16,
   "id": "add97f04",
   "metadata": {
    "scrolled": true
   },
   "outputs": [
    {
     "name": "stdout",
     "output_type": "stream",
     "text": [
      "   YEAR      CAUSE       CLAIM\n",
      "8  2007  WINDSTORM  4622355.53\n"
     ]
    }
   ],
   "source": [
    "print(df2[['YEAR', 'CAUSE','CLAIM']].sort_values('CLAIM', ascending=False).head(1))"
   ]
  },
  {
   "cell_type": "markdown",
   "id": "5ebbd1dc",
   "metadata": {},
   "source": [
    "#### Here we get that WINDSTROME has greatest average annual claims: 5178311.62 in the year 2007.  \n"
   ]
  },
  {
   "cell_type": "markdown",
   "id": "67c4172b",
   "metadata": {},
   "source": [
    "**What is the average individual claim size by peril across the 9-year time period?**"
   ]
  },
  {
   "cell_type": "code",
   "execution_count": 17,
   "id": "27ff003d",
   "metadata": {
    "scrolled": true
   },
   "outputs": [
    {
     "data": {
      "text/plain": [
       "CAUSE\n",
       "ACCIDENTAL DAMAGE    8681913.23\n",
       "EARTHQUAKE            748746.61\n",
       "ESCAPE OF WATER      3405456.11\n",
       "FIRE                 7050611.03\n",
       "FLOOD                9449495.10\n",
       "SUBSIDENCE           4773181.49\n",
       "THEFT                7156159.83\n",
       "WINDSTORM            8751596.65\n",
       "Name: CLAIM, dtype: float64"
      ]
     },
     "execution_count": 17,
     "metadata": {},
     "output_type": "execute_result"
    }
   ],
   "source": [
    "cause_2 = []\n",
    "total_value2 = []\n",
    "for c in causes:\n",
    "    total_value =data_df.loc[data_df['CAUSE'] == c, 'GROSS INCURRED AMOUNT'].sum()\n",
    "    cause_2.append(c)\n",
    "    total_value2.append(total_value.round(2))\n",
    "\n",
    "dict = {'CAUSE': cause_2, 'CLAIM': total_value2}\n",
    "df3 = pd.DataFrame(dict)\n",
    "\n",
    "# Calculating average\n",
    "result = df3.groupby('CAUSE')['CLAIM'].mean()\n",
    "\n",
    "# Display result\n",
    "result.round(2)\n"
   ]
  },
  {
   "cell_type": "markdown",
   "id": "6697f6b6",
   "metadata": {},
   "source": [
    "### Q3. What did Windstorm Erwin cost the company? What perils drove the loss?\n",
    "\n",
    "**What was the total loss, for windstorm and other related weather perils, for Windstorm Erwin (date Jan 7th to Jan 9th, 2005)**\n"
   ]
  },
  {
   "cell_type": "code",
   "execution_count": 18,
   "id": "57b5778f",
   "metadata": {
    "scrolled": true
   },
   "outputs": [
    {
     "data": {
      "text/html": [
       "<div>\n",
       "<style scoped>\n",
       "    .dataframe tbody tr th:only-of-type {\n",
       "        vertical-align: middle;\n",
       "    }\n",
       "\n",
       "    .dataframe tbody tr th {\n",
       "        vertical-align: top;\n",
       "    }\n",
       "\n",
       "    .dataframe thead th {\n",
       "        text-align: right;\n",
       "    }\n",
       "</style>\n",
       "<table border=\"1\" class=\"dataframe\">\n",
       "  <thead>\n",
       "    <tr style=\"text-align: right;\">\n",
       "      <th></th>\n",
       "      <th>DAY</th>\n",
       "      <th>MONTH</th>\n",
       "      <th>MONTH_ID</th>\n",
       "      <th>YEAR</th>\n",
       "      <th>CAUSE</th>\n",
       "      <th>GROSS INCURRED AMOUNT</th>\n",
       "    </tr>\n",
       "  </thead>\n",
       "  <tbody>\n",
       "    <tr>\n",
       "      <th>1947</th>\n",
       "      <td>8</td>\n",
       "      <td>January</td>\n",
       "      <td>1</td>\n",
       "      <td>2000</td>\n",
       "      <td>WINDSTORM</td>\n",
       "      <td>350.00</td>\n",
       "    </tr>\n",
       "    <tr>\n",
       "      <th>5221</th>\n",
       "      <td>8</td>\n",
       "      <td>January</td>\n",
       "      <td>1</td>\n",
       "      <td>2001</td>\n",
       "      <td>WINDSTORM</td>\n",
       "      <td>595.00</td>\n",
       "    </tr>\n",
       "    <tr>\n",
       "      <th>5223</th>\n",
       "      <td>8</td>\n",
       "      <td>January</td>\n",
       "      <td>1</td>\n",
       "      <td>2001</td>\n",
       "      <td>WINDSTORM</td>\n",
       "      <td>528.75</td>\n",
       "    </tr>\n",
       "    <tr>\n",
       "      <th>5224</th>\n",
       "      <td>8</td>\n",
       "      <td>January</td>\n",
       "      <td>1</td>\n",
       "      <td>2001</td>\n",
       "      <td>WINDSTORM</td>\n",
       "      <td>998.75</td>\n",
       "    </tr>\n",
       "    <tr>\n",
       "      <th>5226</th>\n",
       "      <td>8</td>\n",
       "      <td>January</td>\n",
       "      <td>1</td>\n",
       "      <td>2001</td>\n",
       "      <td>WINDSTORM</td>\n",
       "      <td>130.00</td>\n",
       "    </tr>\n",
       "    <tr>\n",
       "      <th>...</th>\n",
       "      <td>...</td>\n",
       "      <td>...</td>\n",
       "      <td>...</td>\n",
       "      <td>...</td>\n",
       "      <td>...</td>\n",
       "      <td>...</td>\n",
       "    </tr>\n",
       "    <tr>\n",
       "      <th>36526</th>\n",
       "      <td>8</td>\n",
       "      <td>January</td>\n",
       "      <td>1</td>\n",
       "      <td>2007</td>\n",
       "      <td>WINDSTORM</td>\n",
       "      <td>114.00</td>\n",
       "    </tr>\n",
       "    <tr>\n",
       "      <th>36528</th>\n",
       "      <td>8</td>\n",
       "      <td>January</td>\n",
       "      <td>1</td>\n",
       "      <td>2007</td>\n",
       "      <td>WINDSTORM</td>\n",
       "      <td>264.38</td>\n",
       "    </tr>\n",
       "    <tr>\n",
       "      <th>36529</th>\n",
       "      <td>8</td>\n",
       "      <td>January</td>\n",
       "      <td>1</td>\n",
       "      <td>2007</td>\n",
       "      <td>WINDSTORM</td>\n",
       "      <td>1811.20</td>\n",
       "    </tr>\n",
       "    <tr>\n",
       "      <th>36531</th>\n",
       "      <td>8</td>\n",
       "      <td>January</td>\n",
       "      <td>1</td>\n",
       "      <td>2007</td>\n",
       "      <td>WINDSTORM</td>\n",
       "      <td>176.00</td>\n",
       "    </tr>\n",
       "    <tr>\n",
       "      <th>36536</th>\n",
       "      <td>8</td>\n",
       "      <td>January</td>\n",
       "      <td>1</td>\n",
       "      <td>2007</td>\n",
       "      <td>WINDSTORM</td>\n",
       "      <td>420.00</td>\n",
       "    </tr>\n",
       "  </tbody>\n",
       "</table>\n",
       "<p>238 rows × 6 columns</p>\n",
       "</div>"
      ],
      "text/plain": [
       "       DAY    MONTH  MONTH_ID  YEAR      CAUSE  GROSS INCURRED AMOUNT\n",
       "1947     8  January         1  2000  WINDSTORM                 350.00\n",
       "5221     8  January         1  2001  WINDSTORM                 595.00\n",
       "5223     8  January         1  2001  WINDSTORM                 528.75\n",
       "5224     8  January         1  2001  WINDSTORM                 998.75\n",
       "5226     8  January         1  2001  WINDSTORM                 130.00\n",
       "...    ...      ...       ...   ...        ...                    ...\n",
       "36526    8  January         1  2007  WINDSTORM                 114.00\n",
       "36528    8  January         1  2007  WINDSTORM                 264.38\n",
       "36529    8  January         1  2007  WINDSTORM                1811.20\n",
       "36531    8  January         1  2007  WINDSTORM                 176.00\n",
       "36536    8  January         1  2007  WINDSTORM                 420.00\n",
       "\n",
       "[238 rows x 6 columns]"
      ]
     },
     "execution_count": 18,
     "metadata": {},
     "output_type": "execute_result"
    }
   ],
   "source": [
    "options = ['FLOOD','WINDSTORM','SUBSIDENCE']\n",
    "df3 = data_df.loc[(data_df['MONTH']=='January') & (data_df['DAY']<9) & (data_df['DAY']>7) & (data_df['CAUSE'].isin(options))]\n",
    "df3"
   ]
  },
  {
   "cell_type": "code",
   "execution_count": 19,
   "id": "682bfb59",
   "metadata": {
    "scrolled": true
   },
   "outputs": [
    {
     "name": "stdout",
     "output_type": "stream",
     "text": [
      "CAUSE\n",
      "WINDSTORM    205524.31\n",
      "Name: GROSS INCURRED AMOUNT, dtype: float64\n"
     ]
    }
   ],
   "source": [
    "result_weather = df3.groupby('CAUSE')['GROSS INCURRED AMOUNT'].sum()\n",
    "print(result_weather)"
   ]
  },
  {
   "cell_type": "markdown",
   "id": "64dc459f",
   "metadata": {},
   "source": [
    "# NOW WE WILL MAKE OUR MODEL FOR PREDICTION"
   ]
  },
  {
   "cell_type": "markdown",
   "id": "033459c7",
   "metadata": {},
   "source": [
    "### Transformation of categorical attributes"
   ]
  },
  {
   "cell_type": "code",
   "execution_count": 20,
   "id": "abc9e104",
   "metadata": {
    "scrolled": false
   },
   "outputs": [],
   "source": [
    "# Converting object data type into numeric data type using Label Encoder.\n",
    "\n",
    "from sklearn.preprocessing import LabelEncoder\n",
    "\n",
    "lb = LabelEncoder()\n",
    "data_df['MONTH'] = lb.fit_transform(data_df['MONTH'])\n",
    "data_df['CAUSE'] = lb.fit_transform(data_df['CAUSE'])"
   ]
  },
  {
   "cell_type": "markdown",
   "id": "44fafe2a",
   "metadata": {},
   "source": [
    "**Lets try to understand what this data is all about.**\n",
    "\n",
    "### Data Visualisation-\n",
    "Since this is a classification problem it would be important and interesting to the distribution of target variables for the data."
   ]
  },
  {
   "cell_type": "code",
   "execution_count": 21,
   "id": "c79a7416",
   "metadata": {
    "scrolled": false
   },
   "outputs": [
    {
     "data": {
      "image/png": "[encoded data removed]",
      "text/plain": [
       "<Figure size 1440x432 with 2 Axes>"
      ]
     },
     "metadata": {
      "needs_background": "light"
     },
     "output_type": "display_data"
    }
   ],
   "source": [
    "fig, ax=plt.subplots(1,2,figsize=(20,6))\n",
    "_ = sb.countplot(x='CAUSE', data=data_df, ax=ax[0])\n",
    "_ = data_df['CAUSE'].value_counts().plot.pie(autopct=\"%1.1f%%\", ax=ax[1])"
   ]
  },
  {
   "cell_type": "markdown",
   "id": "5ea6517b",
   "metadata": {},
   "source": [
    "**So there are 8 classes of CAUSE for which insurance is claims. We can see that the distribution of the classes is disbalanced. 'ACCIDENTAL DAMAGE' class is in majority while 'EARTHQUAKE' class is the minority here.**"
   ]
  },
  {
   "cell_type": "markdown",
   "id": "637754c5",
   "metadata": {},
   "source": [
    "##### Let's check the distribution of data using Histogram and Density visualisation method.¶"
   ]
  },
  {
   "cell_type": "code",
   "execution_count": 22,
   "id": "224691b0",
   "metadata": {
    "scrolled": false
   },
   "outputs": [
    {
     "data": {
      "image/png": "[encoded data removed]",
      "text/plain": [
       "<Figure size 1080x1080 with 6 Axes>"
      ]
     },
     "metadata": {
      "needs_background": "light"
     },
     "output_type": "display_data"
    }
   ],
   "source": [
    "data_df.hist(figsize=(15,15))\n",
    "plt.show()"
   ]
  },
  {
   "cell_type": "code",
   "execution_count": 23,
   "id": "347440ab",
   "metadata": {
    "scrolled": false
   },
   "outputs": [
    {
     "data": {
      "image/png": "[encoded data removed]",
      "text/plain": [
       "<Figure size 1440x1440 with 30 Axes>"
      ]
     },
     "metadata": {
      "needs_background": "light"
     },
     "output_type": "display_data"
    }
   ],
   "source": [
    "data_df.plot(kind=\"density\", layout=(6,5), \n",
    "             subplots=True,sharex=False, sharey=False, figsize=(20,20))\n",
    "plt.show()"
   ]
  },
  {
   "cell_type": "markdown",
   "id": "991be546",
   "metadata": {},
   "source": [
    "**Checking the coorellation**"
   ]
  },
  {
   "cell_type": "code",
   "execution_count": 24,
   "id": "ae659fdd",
   "metadata": {
    "scrolled": false
   },
   "outputs": [
    {
     "data": {
      "image/png": "[encoded data removed]",
      "text/plain": [
       "<Figure size 432x288 with 2 Axes>"
      ]
     },
     "metadata": {
      "needs_background": "light"
     },
     "output_type": "display_data"
    }
   ],
   "source": [
    "# coorelation between the featues and target\n",
    "\n",
    "sb.heatmap(data_df.corr(),annot = True)\n",
    "plt.show()"
   ]
  },
  {
   "cell_type": "markdown",
   "id": "30f42900",
   "metadata": {},
   "source": [
    "**Now we will take features and target in seprate variable as an input X and output Y**"
   ]
  },
  {
   "cell_type": "code",
   "execution_count": 25,
   "id": "41c8b7c8",
   "metadata": {
    "scrolled": false
   },
   "outputs": [],
   "source": [
    "# Defining Input and target\n",
    "X = data_df.drop('CAUSE',axis=1)\n",
    "Y = data_df['CAUSE']"
   ]
  },
  {
   "cell_type": "markdown",
   "id": "d5eb16fb",
   "metadata": {},
   "source": [
    "### Train-Test-Split"
   ]
  },
  {
   "cell_type": "code",
   "execution_count": 26,
   "id": "27450691",
   "metadata": {
    "scrolled": false
   },
   "outputs": [],
   "source": [
    "from sklearn.model_selection import train_test_split\n",
    "X_train,X_test,Y_train,Y_test = train_test_split(X,Y,test_size=0.2,random_state=1)"
   ]
  },
  {
   "cell_type": "markdown",
   "id": "24bf7b35",
   "metadata": {},
   "source": [
    "**As we know that before giving data to machine we need to change unit of all data.**"
   ]
  },
  {
   "cell_type": "code",
   "execution_count": 27,
   "id": "21064633",
   "metadata": {
    "scrolled": false
   },
   "outputs": [],
   "source": [
    "from sklearn.preprocessing import StandardScaler\n",
    "\n",
    "ss= StandardScaler()\n",
    "X_train =  ss.fit_transform(X_train)\n",
    "X_test = ss.transform(X_test)"
   ]
  },
  {
   "cell_type": "code",
   "execution_count": 28,
   "id": "03ed100f",
   "metadata": {
    "scrolled": false
   },
   "outputs": [
    {
     "data": {
      "text/plain": [
       "(35440, 5)"
      ]
     },
     "execution_count": 28,
     "metadata": {},
     "output_type": "execute_result"
    }
   ],
   "source": [
    "X_train.shape"
   ]
  },
  {
   "cell_type": "code",
   "execution_count": 29,
   "id": "1247e1ef",
   "metadata": {
    "scrolled": false
   },
   "outputs": [
    {
     "data": {
      "text/plain": [
       "(8861, 5)"
      ]
     },
     "execution_count": 29,
     "metadata": {},
     "output_type": "execute_result"
    }
   ],
   "source": [
    "X_test.shape"
   ]
  },
  {
   "cell_type": "code",
   "execution_count": 30,
   "id": "81c2eebf",
   "metadata": {
    "scrolled": false
   },
   "outputs": [
    {
     "data": {
      "text/plain": [
       "(35440,)"
      ]
     },
     "execution_count": 30,
     "metadata": {},
     "output_type": "execute_result"
    }
   ],
   "source": [
    "Y_train.shape"
   ]
  },
  {
   "cell_type": "code",
   "execution_count": 31,
   "id": "bfc026e8",
   "metadata": {
    "scrolled": false
   },
   "outputs": [],
   "source": [
    "#! pip install imblearn"
   ]
  },
  {
   "cell_type": "code",
   "execution_count": 32,
   "id": "efa4d57a",
   "metadata": {
    "scrolled": false
   },
   "outputs": [
    {
     "data": {
      "text/plain": [
       "((35440, 5), (35440,))"
      ]
     },
     "execution_count": 32,
     "metadata": {},
     "output_type": "execute_result"
    }
   ],
   "source": [
    "from imblearn.over_sampling import SMOTE\n",
    "\n",
    "X_train1,Y_train1 = SMOTE().fit_resample(X_train,Y_train)\n",
    "X_test1,Y_test1 = SMOTE().fit_resample(X_test,Y_test)\n",
    "X_train.shape, Y_train.shape"
   ]
  },
  {
   "cell_type": "code",
   "execution_count": 33,
   "id": "c1639c95",
   "metadata": {
    "scrolled": false
   },
   "outputs": [
    {
     "data": {
      "text/plain": [
       "0    3398\n",
       "1    3398\n",
       "2    3398\n",
       "3    3398\n",
       "4    3398\n",
       "5    3398\n",
       "6    3398\n",
       "7    3398\n",
       "Name: CAUSE, dtype: int64"
      ]
     },
     "execution_count": 33,
     "metadata": {},
     "output_type": "execute_result"
    }
   ],
   "source": [
    "Y_test1.value_counts()"
   ]
  },
  {
   "cell_type": "markdown",
   "id": "d5afa2e7",
   "metadata": {},
   "source": [
    "### Creating a Model Function"
   ]
  },
  {
   "cell_type": "code",
   "execution_count": 34,
   "id": "9903b242",
   "metadata": {
    "scrolled": false
   },
   "outputs": [],
   "source": [
    "def create_model(model):\n",
    "    model.fit(X_train1,Y_train1)\n",
    "    Y_pred = model.predict(X_test1)\n",
    "    \n",
    "    print(classification_report(Y_test1, Y_pred))\n",
    "    \n",
    "    print(\"Confusion Matrix\",confusion_matrix(Y_test1,Y_pred))\n",
    "    print(\"Model Accuracy: \",model.score(X_test1,Y_test1))\n",
    "    return model\n",
    "\n",
    "from sklearn.metrics import classification_report,confusion_matrix\n"
   ]
  },
  {
   "cell_type": "markdown",
   "id": "103b2dd1",
   "metadata": {},
   "source": [
    "# 1-Using a Logistic Regression"
   ]
  },
  {
   "cell_type": "code",
   "execution_count": 35,
   "id": "8ed181c9",
   "metadata": {
    "scrolled": false
   },
   "outputs": [
    {
     "name": "stdout",
     "output_type": "stream",
     "text": [
      "              precision    recall  f1-score   support\n",
      "\n",
      "           0       0.23      0.29      0.26      3398\n",
      "           1       0.69      0.96      0.80      3398\n",
      "           2       0.27      0.52      0.36      3398\n",
      "           3       0.20      0.04      0.06      3398\n",
      "           4       0.27      0.48      0.35      3398\n",
      "           5       0.39      0.33      0.36      3398\n",
      "           6       0.16      0.03      0.05      3398\n",
      "           7       0.19      0.09      0.12      3398\n",
      "\n",
      "    accuracy                           0.34     27184\n",
      "   macro avg       0.30      0.34      0.29     27184\n",
      "weighted avg       0.30      0.34      0.29     27184\n",
      "\n",
      "Confusion Matrix [[ 984  233  756   20  934  199   77  195]\n",
      " [  14 3273   31    0    0    0   16   64]\n",
      " [ 583   54 1772  102  314  289   74  210]\n",
      " [ 582  175 1018  123  701  522   71  206]\n",
      " [ 621  319  151   71 1626  337  101  172]\n",
      " [ 228  315  625  199  584 1122  125  200]\n",
      " [ 704  245  947   51  870  265   99  217]\n",
      " [ 585  135 1148   44  991  155   43  297]]\n",
      "Model Accuracy:  0.34196586227192466\n"
     ]
    }
   ],
   "source": [
    "from sklearn.linear_model import LogisticRegression\n",
    "\n",
    "lr = LogisticRegression(random_state=1)\n",
    "lr = create_model(lr)"
   ]
  },
  {
   "cell_type": "markdown",
   "id": "c4d647c0",
   "metadata": {},
   "source": [
    "# 2- Decision Tree Classifier with Gini"
   ]
  },
  {
   "cell_type": "code",
   "execution_count": 36,
   "id": "e82de1de",
   "metadata": {
    "scrolled": false
   },
   "outputs": [
    {
     "name": "stdout",
     "output_type": "stream",
     "text": [
      "              precision    recall  f1-score   support\n",
      "\n",
      "           0       0.26      0.32      0.29      3398\n",
      "           1       0.96      0.95      0.95      3398\n",
      "           2       0.25      0.23      0.24      3398\n",
      "           3       0.25      0.27      0.26      3398\n",
      "           4       0.31      0.29      0.30      3398\n",
      "           5       0.40      0.32      0.36      3398\n",
      "           6       0.19      0.19      0.19      3398\n",
      "           7       0.41      0.41      0.41      3398\n",
      "\n",
      "    accuracy                           0.37     27184\n",
      "   macro avg       0.38      0.37      0.37     27184\n",
      "weighted avg       0.38      0.37      0.37     27184\n",
      "\n",
      "Confusion Matrix [[1104    6  398  210  526   87  641  426]\n",
      " [   7 3238   11   20    1   81    5   35]\n",
      " [ 581   16  775  652  192  355  492  335]\n",
      " [ 403   36  506  924  342  475  427  285]\n",
      " [ 625   18  192  418  969  319  516  341]\n",
      " [ 236   46  416  737  350 1098  308  207]\n",
      " [ 797   19  451  484  447  199  636  365]\n",
      " [ 568    8  322  284  332  121  364 1399]]\n",
      "Model Accuracy:  0.3731238964096527\n"
     ]
    }
   ],
   "source": [
    "from sklearn.tree import DecisionTreeClassifier\n",
    "\n",
    "dt = DecisionTreeClassifier(random_state=1)\n",
    "dt = create_model(dt)"
   ]
  },
  {
   "cell_type": "markdown",
   "id": "7c65f5c1",
   "metadata": {},
   "source": [
    "# 2.1 Decision Tree Classifier : Pruning Technique : max_depth"
   ]
  },
  {
   "cell_type": "code",
   "execution_count": 37,
   "id": "6b10ff35",
   "metadata": {
    "scrolled": true
   },
   "outputs": [
    {
     "name": "stdout",
     "output_type": "stream",
     "text": [
      "              precision    recall  f1-score   support\n",
      "\n",
      "           0       0.27      0.43      0.34      3398\n",
      "           1       0.96      0.96      0.96      3398\n",
      "           2       0.30      0.55      0.39      3398\n",
      "           3       0.28      0.08      0.13      3398\n",
      "           4       0.31      0.50      0.39      3398\n",
      "           5       0.43      0.52      0.47      3398\n",
      "           6       0.29      0.01      0.01      3398\n",
      "           7       0.64      0.30      0.41      3398\n",
      "\n",
      "    accuracy                           0.42     27184\n",
      "   macro avg       0.44      0.42      0.39     27184\n",
      "weighted avg       0.44      0.42      0.39     27184\n",
      "\n",
      "Confusion Matrix [[1465   14  846   57  654  219   19  124]\n",
      " [  11 3257   24    0   69   37    0    0]\n",
      " [ 627   27 1861  156  120  496   11  100]\n",
      " [ 559    7 1064  286  769  632    1   80]\n",
      " [ 920   11  184   65 1707  386    8  117]\n",
      " [ 199   54  406  320  610 1780    2   27]\n",
      " [ 950   20 1053  105  862  276   22  110]\n",
      " [ 613    5  800   43  642  275   13 1007]]\n",
      "Model Accuracy:  0.4188125367863449\n"
     ]
    }
   ],
   "source": [
    "dt1=DecisionTreeClassifier(random_state=1,max_depth=8) #bydefault gini\n",
    "dt1=create_model(dt1)"
   ]
  },
  {
   "cell_type": "markdown",
   "id": "11f01ea4",
   "metadata": {},
   "source": [
    "# 2.2 Decision Tree Classifier : Pruning Technique :min_samples_leaf"
   ]
  },
  {
   "cell_type": "code",
   "execution_count": 38,
   "id": "f77478ec",
   "metadata": {
    "scrolled": false
   },
   "outputs": [
    {
     "name": "stdout",
     "output_type": "stream",
     "text": [
      "              precision    recall  f1-score   support\n",
      "\n",
      "           0       0.30      0.27      0.29      3398\n",
      "           1       0.94      0.95      0.95      3398\n",
      "           2       0.29      0.34      0.31      3398\n",
      "           3       0.26      0.28      0.27      3398\n",
      "           4       0.32      0.37      0.34      3398\n",
      "           5       0.40      0.54      0.46      3398\n",
      "           6       0.22      0.11      0.14      3398\n",
      "           7       0.54      0.44      0.48      3398\n",
      "\n",
      "    accuracy                           0.41     27184\n",
      "   macro avg       0.41      0.41      0.41     27184\n",
      "weighted avg       0.41      0.41      0.41     27184\n",
      "\n",
      "Confusion Matrix [[ 931   19  678  263  636  211  378  282]\n",
      " [   2 3242    1   11    5  135    0    2]\n",
      " [ 328    9 1143  710  115  571  271  251]\n",
      " [ 282   24  484  963  510  754  229  152]\n",
      " [ 460   63  199  414 1252  527  221  262]\n",
      " [  90   34  343  650  336 1829   28   88]\n",
      " [ 607   40  641  510  647  336  361  256]\n",
      " [ 356   28  466  249  363  248  188 1500]]\n",
      "Model Accuracy:  0.4127795762213067\n"
     ]
    }
   ],
   "source": [
    "df2 = DecisionTreeClassifier(random_state=1, min_samples_leaf=87)\n",
    "df2 = create_model(df2)"
   ]
  },
  {
   "cell_type": "markdown",
   "id": "fedde8ac",
   "metadata": {},
   "source": [
    "# 3 Decision Tree Classifier with Entropy"
   ]
  },
  {
   "cell_type": "code",
   "execution_count": 39,
   "id": "5755afcb",
   "metadata": {},
   "outputs": [
    {
     "name": "stdout",
     "output_type": "stream",
     "text": [
      "              precision    recall  f1-score   support\n",
      "\n",
      "           0       0.25      0.32      0.28      3398\n",
      "           1       0.96      0.95      0.95      3398\n",
      "           2       0.24      0.20      0.22      3398\n",
      "           3       0.26      0.31      0.29      3398\n",
      "           4       0.30      0.27      0.29      3398\n",
      "           5       0.41      0.34      0.37      3398\n",
      "           6       0.19      0.19      0.19      3398\n",
      "           7       0.42      0.42      0.42      3398\n",
      "\n",
      "    accuracy                           0.38     27184\n",
      "   macro avg       0.38      0.38      0.38     27184\n",
      "weighted avg       0.38      0.38      0.38     27184\n",
      "\n",
      "Confusion Matrix [[1075    6  412  219  524   83  650  429]\n",
      " [   6 3235    9   39    4  101    1    3]\n",
      " [ 569   20  694  747  167  364  518  319]\n",
      " [ 422   31  458 1055  337  476  362  257]\n",
      " [ 600   18  211  413  928  316  535  377]\n",
      " [ 220   51  360  779  351 1139  313  185]\n",
      " [ 799   19  437  468  469  203  647  356]\n",
      " [ 541    4  327  285  332  118  368 1423]]\n",
      "Model Accuracy:  0.37507357268981756\n"
     ]
    }
   ],
   "source": [
    "\n",
    "dt_entropy = DecisionTreeClassifier(random_state=1, criterion='entropy')   \n",
    "\n",
    "# Criterion should be entropy if you want to calculate with Entropy other wise by default it take Gini Index\n",
    "\n",
    "dt_entropy = create_model(dt_entropy)"
   ]
  },
  {
   "cell_type": "markdown",
   "id": "6aafadc3",
   "metadata": {},
   "source": [
    "# 4. Random Forest Classifier"
   ]
  },
  {
   "cell_type": "code",
   "execution_count": null,
   "id": "45eca4eb",
   "metadata": {
    "scrolled": true
   },
   "outputs": [],
   "source": [
    "\n",
    "from sklearn.ensemble import RandomForestClassifier\n",
    "\n",
    "rfc =RandomForestClassifier(random_state=1)\n",
    "rfc = create_model(rfc)"
   ]
  },
  {
   "cell_type": "code",
   "execution_count": null,
   "id": "da9f826a",
   "metadata": {},
   "outputs": [],
   "source": [
    "'''for i in range(1,9):\n",
    "    rfc1 = RandomForestClassifier(random_state=1, max_depth=i)\n",
    "    print(\"Max_depth: \", i)\n",
    "    \n",
    "    rfc1  = create_model(rfc1)'''"
   ]
  },
  {
   "cell_type": "code",
   "execution_count": null,
   "id": "2abfb965",
   "metadata": {},
   "outputs": [],
   "source": [
    "\n",
    "rfc1 = RandomForestClassifier(random_state=1, max_depth=8)\n",
    "rfc1  = create_model(rfc1)"
   ]
  },
  {
   "cell_type": "markdown",
   "id": "fe7895d1",
   "metadata": {},
   "source": [
    "# 5. AdaBoostClassifier"
   ]
  },
  {
   "cell_type": "code",
   "execution_count": null,
   "id": "eda71a34",
   "metadata": {},
   "outputs": [],
   "source": [
    "from sklearn.ensemble import AdaBoostClassifier\n",
    "'''for i in range(1,14):\n",
    "    ada = AdaBoostClassifier(n_estimators=i, random_state=1)\n",
    "    \n",
    "    print(\"No of Decision Stump: \", i)\n",
    "    \n",
    "    ada = create_model(ada)'''"
   ]
  },
  {
   "cell_type": "code",
   "execution_count": null,
   "id": "29f9d5a1",
   "metadata": {},
   "outputs": [],
   "source": [
    "ada = AdaBoostClassifier(n_estimators=10, random_state=1)\n",
    "\n",
    "\n",
    "ada = create_model(ada)"
   ]
  },
  {
   "cell_type": "markdown",
   "id": "f7720c8f",
   "metadata": {},
   "source": [
    "# 5. Gradient Boosting"
   ]
  },
  {
   "cell_type": "code",
   "execution_count": null,
   "id": "11d8820b",
   "metadata": {},
   "outputs": [],
   "source": [
    "from sklearn.ensemble import GradientBoostingClassifier\n",
    "\n",
    "'''for i in range(10,101):\n",
    "    gbc = GradientBoostingClassifier(n_estimators=99, random_state=1)  # n_estimators >=10 and <=100\n",
    "    print(\"Esimators: \", i)\n",
    "    \n",
    "    gbc = create_model(gbc)'''"
   ]
  },
  {
   "cell_type": "code",
   "execution_count": null,
   "id": "793f60ea",
   "metadata": {},
   "outputs": [],
   "source": [
    "from sklearn.ensemble import GradientBoostingClassifier\n",
    "gbc = GradientBoostingClassifier(n_estimators=99, random_state=1)  # n_estimators >=10 and <=100\n",
    "\n",
    "gbc = create_model(gbc)"
   ]
  },
  {
   "cell_type": "code",
   "execution_count": null,
   "id": "6cddc16a",
   "metadata": {},
   "outputs": [],
   "source": [
    "#!pip install xgboost"
   ]
  },
  {
   "cell_type": "markdown",
   "id": "6914d2e1",
   "metadata": {},
   "source": [
    "# 6. XGBClassifier"
   ]
  },
  {
   "cell_type": "code",
   "execution_count": null,
   "id": "fe6d2fe0",
   "metadata": {},
   "outputs": [],
   "source": [
    "from xgboost import XGBClassifier\n",
    "'''for i in range(10,100):\n",
    "    xgc = XGBClassifier(n_estimators= i,reg_alpha =1, random_state =1)\n",
    "    \n",
    "    xgc = create_model(xgc)'''"
   ]
  },
  {
   "cell_type": "code",
   "execution_count": null,
   "id": "75d569af",
   "metadata": {},
   "outputs": [],
   "source": [
    "xgc = XGBClassifier(n_estimators= 90,reg_alpha =1, random_state =1)\n",
    "\n",
    "xgc = create_model(xgc)\n"
   ]
  },
  {
   "cell_type": "markdown",
   "id": "27351743",
   "metadata": {},
   "source": [
    "# 7. Linear SVC"
   ]
  },
  {
   "cell_type": "code",
   "execution_count": null,
   "id": "4d2a99bd",
   "metadata": {},
   "outputs": [],
   "source": [
    "from sklearn.svm import LinearSVC\n",
    "svc = LinearSVC(random_state=1) \n",
    "svc = create_model(svc)"
   ]
  },
  {
   "cell_type": "code",
   "execution_count": null,
   "id": "074c983c",
   "metadata": {},
   "outputs": [],
   "source": [
    "svc1 = LinearSVC(random_state=1,C = 0.9)\n",
    "svc1 = create_model(svc1)"
   ]
  },
  {
   "cell_type": "code",
   "execution_count": null,
   "id": "c0fa62be",
   "metadata": {},
   "outputs": [],
   "source": [
    "from sklearn.svm import SVC \n",
    "poly_svc = SVC(random_state=1,kernel='poly')\n",
    "poly_svc = create_model(poly_svc)"
   ]
  },
  {
   "cell_type": "code",
   "execution_count": null,
   "id": "94c15909",
   "metadata": {},
   "outputs": [],
   "source": [
    "r_svc = SVC(random_state=1, kernel='rbf')\n",
    "r_svc = create_model(r_svc)"
   ]
  },
  {
   "cell_type": "code",
   "execution_count": null,
   "id": "9808ccd1",
   "metadata": {},
   "outputs": [],
   "source": []
  }
 ],
 "metadata": {
  "kernelspec": {
   "display_name": "Python 3 (ipykernel)",
   "language": "python",
   "name": "python3"
  },
  "language_info": {
   "codemirror_mode": {
    "name": "ipython",
    "version": 3
   },
   "file_extension": ".py",
   "mimetype": "text/x-python",
   "name": "python",
   "nbconvert_exporter": "python",
   "pygments_lexer": "ipython3",
   "version": "3.9.15"
  }
 },
 "nbformat": 4,
 "nbformat_minor": 5
}
